{
 "cells": [
  {
   "cell_type": "code",
   "execution_count": 2,
   "metadata": {},
   "outputs": [],
   "source": [
    "import networkx as nx\n",
    "import pickle\n",
    "import os\n",
    "import random\n",
    "import matplotlib.pyplot as plt\n",
    "import math\n",
    "\n",
    "def create_graph(n_nodes, n_edges):\n",
    "    G = nx.gnm_random_graph(n_nodes, n_edges, directed = True) #[0, n_nodes-1] ; s = n_nodes ; t = n_nodes+1\n",
    "\n",
    "    #code creating G here\n",
    "    for (u,v,w) in G.edges(data=True):\n",
    "        w['weight'] = random.randint(0,100)\n",
    "\n",
    "    G.add_node(n_nodes)\n",
    "    G.add_node(n_nodes+1)\n",
    "    \n",
    "    for i in range(math.floor(n_nodes / 10)):\n",
    "        j = random.randint(0, n_nodes-1)\n",
    "        while(G.has_edge(n_nodes, j)):\n",
    "            j = random.randint(0, n_nodes-1)\n",
    "        G.add_edge(n_nodes, j, weight=random.randint(0,100))\n",
    "\n",
    "    for i in range(math.floor(n_nodes / 10)):\n",
    "        j = random.randint(0, n_nodes-1)\n",
    "        while(G.has_edge(j, n_nodes+1)):\n",
    "            j = random.randint(0, n_nodes-1)\n",
    "        G.add_edge(j, n_nodes+1, weight=random.randint(0,100))\n",
    "\n",
    "    directory = os.getcwd()\n",
    "    filename = directory + \"/grafi/graph_V\" + str(n_nodes) + \"_E\" + str(n_edges) + \"_weighted.pickle\"\n",
    "    with open(filename, 'wb') as fp: \n",
    "        pickle.dump(G, fp)\n",
    "\n",
    "    # To load the graph from the file:\n",
    "    # G = pickle.load(open('filename.pickle', 'rb'))\n",
    "    # print(G.edges)\n",
    "    # nx.draw(G)\n",
    "    # plt.show()\n",
    "\n",
    "def main():\n",
    "    n_nodes = input(\"Nodes: \")\n",
    "    n_edges = input(\"Edges: \")\n",
    "    create_graph(int(n_nodes), int(n_edges))\n",
    "\n",
    "if __name__ == \"__main__\":\n",
    "    main()"
   ]
  },
  {
   "cell_type": "code",
   "execution_count": null,
   "metadata": {},
   "outputs": [],
   "source": []
  }
 ],
 "metadata": {
  "kernelspec": {
   "display_name": "base",
   "language": "python",
   "name": "python3"
  },
  "language_info": {
   "codemirror_mode": {
    "name": "ipython",
    "version": 3
   },
   "file_extension": ".py",
   "mimetype": "text/x-python",
   "name": "python",
   "nbconvert_exporter": "python",
   "pygments_lexer": "ipython3",
   "version": "3.9.13"
  },
  "orig_nbformat": 4
 },
 "nbformat": 4,
 "nbformat_minor": 2
}
